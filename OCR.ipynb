{
 "cells": [
  {
   "cell_type": "markdown",
   "id": "47a39e7d-a3eb-4453-b26d-df1aa3ba7e6a",
   "metadata": {
    "tags": []
   },
   "source": [
    "## OCR "
   ]
  },
  {
   "cell_type": "markdown",
   "id": "d8e01920-8c7d-4a02-a545-b02e7cbd912a",
   "metadata": {},
   "source": [
    "#### In this notebook I use EasyOCR to extract the data from my pdf file that contains patient information. I then use that to match with my excel file containing the prices of procedures and display if the charge is above or below the average."
   ]
  },
  {
   "cell_type": "code",
   "execution_count": 1,
   "id": "75253b5e-e6aa-4c61-a6d3-dd8f06f525c8",
   "metadata": {
    "tags": []
   },
   "outputs": [
    {
     "name": "stdout",
     "output_type": "stream",
     "text": [
      "Requirement already satisfied: pytesseract in c:\\users\\rodrigo\\anaconda3\\lib\\site-packages (0.3.10)\n",
      "Requirement already satisfied: pillow in c:\\users\\rodrigo\\anaconda3\\lib\\site-packages (10.2.0)\n",
      "Requirement already satisfied: pdf2image in c:\\users\\rodrigo\\anaconda3\\lib\\site-packages (1.17.0)\n",
      "Requirement already satisfied: packaging>=21.3 in c:\\users\\rodrigo\\anaconda3\\lib\\site-packages (from pytesseract) (23.1)\n",
      "Note: you may need to restart the kernel to use updated packages.\n"
     ]
    }
   ],
   "source": [
    "pip install pytesseract pillow pdf2image"
   ]
  },
  {
   "cell_type": "code",
   "execution_count": 1,
   "id": "ce3574cf-fe3a-4056-81e3-707483fa05dc",
   "metadata": {
    "tags": []
   },
   "outputs": [],
   "source": [
    "from pdf2image import convert_from_path\n",
    "\n",
    "# Path to your PDF file\n",
    "pdf_path = 'ub04-mod.pdf'\n",
    "poppler_path = r'C:\\Program Files (x86)\\poppler-24.07.0\\Library\\bin'\n",
    "\n",
    "# Convert PDF to images\n",
    "pages = convert_from_path(pdf_path, 300, poppler_path=poppler_path)  # 300 DPI is a good resolution for OCR\n",
    "\n",
    "# Save the pages as images\n",
    "for i, page in enumerate(pages):\n",
    "    page.save(f'page_{i + 1}.png', 'PNG')\n"
   ]
  },
  {
   "cell_type": "code",
   "execution_count": 2,
   "id": "9d246cc4-427f-4d71-ae9a-641845c639c8",
   "metadata": {
    "tags": []
   },
   "outputs": [
    {
     "name": "stderr",
     "output_type": "stream",
     "text": [
      "Neither CUDA nor MPS are available - defaulting to CPU. Note: This module is much faster with a GPU.\n"
     ]
    }
   ],
   "source": [
    "import easyocr\n",
    "\n",
    "# Initialize EasyOCR Reader\n",
    "reader = easyocr.Reader(['en'])\n",
    "\n",
    "# List to store the OCR results\n",
    "all_text = []\n",
    "\n",
    "# Perform OCR on each page image\n",
    "for i in range(len(pages)):\n",
    "    image_path = f'page_{i + 1}.png'\n",
    "    text = reader.readtext(image_path, detail=0)  # `detail=0` returns only the text\n",
    "    all_text.append(\"\\n\".join(text))\n",
    "\n",
    "# Combine all text into a single string for easier parsing\n",
    "ocr_text = \"\\n\".join(all_text)\n",
    "\n"
   ]
  },
  {
   "cell_type": "code",
   "execution_count": 3,
   "id": "36c787d7-78ab-4240-97af-af86ad6c0467",
   "metadata": {
    "tags": []
   },
   "outputs": [
    {
     "name": "stdout",
     "output_type": "stream",
     "text": [
      "Patient Name: Rodrigo Ameixa\n",
      "Date of Birth: SEX\n",
      "Sex: Not found\n",
      "Patient Address: 82 cidermill DR\n",
      "Total Charges: $3500\n",
      "HCPCS Codes and Charges DataFrame:\n",
      "  HCPCS Code Charge\n",
      "0      10061    500\n",
      "1      10120   1000\n",
      "2      11102   2000\n"
     ]
    }
   ],
   "source": [
    "import re\n",
    "import pandas as pd\n",
    "\n",
    "# Extract Patient Name\n",
    "name_match = re.search(r'PATIENT NAME\\s+(.+)', ocr_text)\n",
    "patient_name = name_match.group(1).strip() if name_match else \"Not found\"\n",
    "\n",
    "# Extract Birthdate\n",
    "dob_match = re.search(r'BIRTHDATE\\s+(.+)', ocr_text)\n",
    "birthdate = dob_match.group(1).strip() if dob_match else \"Not found\"\n",
    "\n",
    "# Extract Sex\n",
    "sex_match = re.search(r'SEX\\s+([MF])', ocr_text)\n",
    "sex = sex_match.group(1).strip() if sex_match else \"Not found\"\n",
    "\n",
    "# Extract Patient Address\n",
    "address_match = re.search(r'PATIENT ADDRESS\\s+(.+)', ocr_text)\n",
    "patient_address = address_match.group(1).strip() if address_match else \"Not found\"\n",
    "\n",
    "# Extract HCPCS Codes and Charges\n",
    "hcpcs_codes = re.findall(r'(\\d{5})\\n\\S(\\d+)', ocr_text)\n",
    "hcpcs_codes_with_charges = [(code, charge) for code, charge in hcpcs_codes]\n",
    "\n",
    "# Convert HCPCS Codes and Charges to a DataFrame\n",
    "df_hcpcs = pd.DataFrame(hcpcs_codes_with_charges, columns=['HCPCS Code', 'Charge'])\n",
    "\n",
    "# Extract Total Charges\n",
    "total_match = re.search(r'TOTALS\\s+S(\\d+)', ocr_text)\n",
    "total_charges = total_match.group(1).strip() if total_match else \"Not found\"\n",
    "\n",
    "# Display Extracted Information\n",
    "print(f\"Patient Name: {patient_name}\")\n",
    "print(f\"Date of Birth: {birthdate}\")\n",
    "print(f\"Sex: {sex}\")\n",
    "print(f\"Patient Address: {patient_address}\")\n",
    "print(f\"Total Charges: ${total_charges}\")\n",
    "\n",
    "# Display the DataFrame\n",
    "print(\"HCPCS Codes and Charges DataFrame:\")\n",
    "print(df_hcpcs)\n"
   ]
  },
  {
   "cell_type": "code",
   "execution_count": 4,
   "id": "cc3e3332-30d5-4e30-bd26-078b20d73d5f",
   "metadata": {
    "tags": []
   },
   "outputs": [
    {
     "data": {
      "text/html": [
       "<div>\n",
       "<style scoped>\n",
       "    .dataframe tbody tr th:only-of-type {\n",
       "        vertical-align: middle;\n",
       "    }\n",
       "\n",
       "    .dataframe tbody tr th {\n",
       "        vertical-align: top;\n",
       "    }\n",
       "\n",
       "    .dataframe thead th {\n",
       "        text-align: right;\n",
       "    }\n",
       "</style>\n",
       "<table border=\"1\" class=\"dataframe\">\n",
       "  <thead>\n",
       "    <tr style=\"text-align: right;\">\n",
       "      <th></th>\n",
       "      <th>HCPCS Code</th>\n",
       "      <th>Charge</th>\n",
       "    </tr>\n",
       "  </thead>\n",
       "  <tbody>\n",
       "    <tr>\n",
       "      <th>0</th>\n",
       "      <td>10061</td>\n",
       "      <td>$500</td>\n",
       "    </tr>\n",
       "    <tr>\n",
       "      <th>1</th>\n",
       "      <td>10120</td>\n",
       "      <td>$1000</td>\n",
       "    </tr>\n",
       "    <tr>\n",
       "      <th>2</th>\n",
       "      <td>11102</td>\n",
       "      <td>$2000</td>\n",
       "    </tr>\n",
       "  </tbody>\n",
       "</table>\n",
       "</div>"
      ],
      "text/plain": [
       "  HCPCS Code Charge\n",
       "0      10061   $500\n",
       "1      10120  $1000\n",
       "2      11102  $2000"
      ]
     },
     "execution_count": 4,
     "metadata": {},
     "output_type": "execute_result"
    }
   ],
   "source": [
    "df_hcpcs\n",
    "df_hcpcs['Charge'] = df_hcpcs['Charge'].apply(lambda x: f\"${x}\")\n",
    "df_hcpcs"
   ]
  },
  {
   "cell_type": "code",
   "execution_count": 5,
   "id": "0c98975b-2ca2-4362-be88-b3213695b979",
   "metadata": {
    "tags": []
   },
   "outputs": [
    {
     "data": {
      "text/html": [
       "<div>\n",
       "<style scoped>\n",
       "    .dataframe tbody tr th:only-of-type {\n",
       "        vertical-align: middle;\n",
       "    }\n",
       "\n",
       "    .dataframe tbody tr th {\n",
       "        vertical-align: top;\n",
       "    }\n",
       "\n",
       "    .dataframe thead th {\n",
       "        text-align: right;\n",
       "    }\n",
       "</style>\n",
       "<table border=\"1\" class=\"dataframe\">\n",
       "  <thead>\n",
       "    <tr style=\"text-align: right;\">\n",
       "      <th></th>\n",
       "      <th>Code</th>\n",
       "      <th>Info</th>\n",
       "      <th>Hospital Outpatient Price</th>\n",
       "    </tr>\n",
       "  </thead>\n",
       "  <tbody>\n",
       "    <tr>\n",
       "      <th>0</th>\n",
       "      <td>10005</td>\n",
       "      <td>Fine needle aspiration biopsy, including ultra...</td>\n",
       "      <td>$148</td>\n",
       "    </tr>\n",
       "    <tr>\n",
       "      <th>1</th>\n",
       "      <td>10007</td>\n",
       "      <td>Fine needle aspiration biopsy, including fluor...</td>\n",
       "      <td>$151</td>\n",
       "    </tr>\n",
       "    <tr>\n",
       "      <th>2</th>\n",
       "      <td>10009</td>\n",
       "      <td>Fine needle aspiration biopsy, including ct gu...</td>\n",
       "      <td>$154</td>\n",
       "    </tr>\n",
       "    <tr>\n",
       "      <th>3</th>\n",
       "      <td>10021</td>\n",
       "      <td>Fine needle aspiration biopsy, without imaging...</td>\n",
       "      <td>NaN</td>\n",
       "    </tr>\n",
       "    <tr>\n",
       "      <th>4</th>\n",
       "      <td>10030</td>\n",
       "      <td>Image-guided fluid collection drainage by cath...</td>\n",
       "      <td>$159</td>\n",
       "    </tr>\n",
       "    <tr>\n",
       "      <th>...</th>\n",
       "      <td>...</td>\n",
       "      <td>...</td>\n",
       "      <td>...</td>\n",
       "    </tr>\n",
       "    <tr>\n",
       "      <th>2268</th>\n",
       "      <td>46257</td>\n",
       "      <td>Hemorrhoidectomy, internal and external, singl...</td>\n",
       "      <td>$617</td>\n",
       "    </tr>\n",
       "    <tr>\n",
       "      <th>2269</th>\n",
       "      <td>46258</td>\n",
       "      <td>Hemorrhoidectomy, internal and external, singl...</td>\n",
       "      <td>$630</td>\n",
       "    </tr>\n",
       "    <tr>\n",
       "      <th>2270</th>\n",
       "      <td>46260</td>\n",
       "      <td>Hemorrhoidectomy, internal and external, 2 or ...</td>\n",
       "      <td>$630</td>\n",
       "    </tr>\n",
       "    <tr>\n",
       "      <th>2271</th>\n",
       "      <td>46261</td>\n",
       "      <td>Hemorrhoidectomy, internal and external, 2 or ...</td>\n",
       "      <td>$640</td>\n",
       "    </tr>\n",
       "    <tr>\n",
       "      <th>2272</th>\n",
       "      <td>46262</td>\n",
       "      <td>Hemorrhoidectomy, internal and external, 2 or ...</td>\n",
       "      <td>$651</td>\n",
       "    </tr>\n",
       "  </tbody>\n",
       "</table>\n",
       "<p>2273 rows × 3 columns</p>\n",
       "</div>"
      ],
      "text/plain": [
       "       Code                                               Info  \\\n",
       "0     10005  Fine needle aspiration biopsy, including ultra...   \n",
       "1     10007  Fine needle aspiration biopsy, including fluor...   \n",
       "2     10009  Fine needle aspiration biopsy, including ct gu...   \n",
       "3     10021  Fine needle aspiration biopsy, without imaging...   \n",
       "4     10030  Image-guided fluid collection drainage by cath...   \n",
       "...     ...                                                ...   \n",
       "2268  46257  Hemorrhoidectomy, internal and external, singl...   \n",
       "2269  46258  Hemorrhoidectomy, internal and external, singl...   \n",
       "2270  46260  Hemorrhoidectomy, internal and external, 2 or ...   \n",
       "2271  46261  Hemorrhoidectomy, internal and external, 2 or ...   \n",
       "2272  46262  Hemorrhoidectomy, internal and external, 2 or ...   \n",
       "\n",
       "     Hospital Outpatient Price  \n",
       "0                         $148  \n",
       "1                         $151  \n",
       "2                         $154  \n",
       "3                          NaN  \n",
       "4                         $159  \n",
       "...                        ...  \n",
       "2268                      $617  \n",
       "2269                      $630  \n",
       "2270                      $630  \n",
       "2271                      $640  \n",
       "2272                      $651  \n",
       "\n",
       "[2273 rows x 3 columns]"
      ]
     },
     "execution_count": 5,
     "metadata": {},
     "output_type": "execute_result"
    }
   ],
   "source": [
    "procedural_costs = pd.read_csv('Procedural_costs.csv')\n",
    "procedural_costs"
   ]
  },
  {
   "cell_type": "code",
   "execution_count": 6,
   "id": "014a263b-ab53-47f1-bbe0-f2e887b910df",
   "metadata": {
    "tags": []
   },
   "outputs": [
    {
     "name": "stdout",
     "output_type": "stream",
     "text": [
      "  HCPCS Code     Charge   Code  \\\n",
      "0      10061    $500.00  10061   \n",
      "1      10120  $1,000.00  10120   \n",
      "2      11102  $2,000.00  11102   \n",
      "\n",
      "                                                Info  \\\n",
      "0  Incision and drainage of abscess (eg, carbuncl...   \n",
      "1  Incision and removal of foreign body, subcutan...   \n",
      "2  Tangential biopsy of skin (eg, shave, scoop, s...   \n",
      "\n",
      "  Hospital Outpatient Price Discrepancy  \n",
      "0                   $111.00    +350.45%  \n",
      "1                    $95.00    +952.63%  \n",
      "2                    $45.00   +4344.44%  \n"
     ]
    }
   ],
   "source": [
    "# Remove the $ symbol and convert to numeric in df_hcpcs\n",
    "df_hcpcs['Charge'] = df_hcpcs['Charge'].replace({'\\$': ''}, regex=True).astype(float)\n",
    "\n",
    "# Remove the $ symbol and convert to numeric in procedural_costs, handling errors\n",
    "procedural_costs['Hospital Outpatient Price'] = pd.to_numeric(\n",
    "    procedural_costs['Hospital Outpatient Price'].replace({'\\$': ''}, regex=True), errors='coerce'\n",
    ")\n",
    "\n",
    "# Convert both 'HCPCS Code' and 'Code' to the same type (string) for merging\n",
    "df_hcpcs['HCPCS Code'] = df_hcpcs['HCPCS Code'].astype(str)\n",
    "procedural_costs['Code'] = procedural_costs['Code'].astype(str)\n",
    "\n",
    "# Join the two DataFrames on the 'Code' and 'HCPCS Code' columns\n",
    "merged_df = pd.merge(df_hcpcs, procedural_costs, left_on='HCPCS Code', right_on='Code', how='left')\n",
    "\n",
    "# Calculate the Discrepancy as a percentage difference\n",
    "merged_df['Discrepancy'] = ((merged_df['Charge'] - merged_df['Hospital Outpatient Price']) / merged_df['Hospital Outpatient Price']) * 100\n",
    "\n",
    "# Format the Discrepancy with + or - and add a % sign\n",
    "merged_df['Discrepancy'] = merged_df['Discrepancy'].apply(lambda x: f\"{'+' if x > 0 else ''}{x:.2f}%\" if pd.notnull(x) else 'NaN')\n",
    "\n",
    "# Add the $ sign back to the Charge and Hospital Outpatient Price columns\n",
    "merged_df['Charge'] = merged_df['Charge'].apply(lambda x: f\"${x:,.2f}\")\n",
    "merged_df['Hospital Outpatient Price'] = merged_df['Hospital Outpatient Price'].apply(lambda x: f\"${x:,.2f}\" if pd.notnull(x) else 'NaN')\n",
    "\n",
    "# Display the final DataFrame\n",
    "print(merged_df)"
   ]
  },
  {
   "cell_type": "code",
   "execution_count": 7,
   "id": "33b6ad55-120b-46a0-9237-5265358f9089",
   "metadata": {
    "tags": []
   },
   "outputs": [
    {
     "data": {
      "text/html": [
       "<div>\n",
       "<style scoped>\n",
       "    .dataframe tbody tr th:only-of-type {\n",
       "        vertical-align: middle;\n",
       "    }\n",
       "\n",
       "    .dataframe tbody tr th {\n",
       "        vertical-align: top;\n",
       "    }\n",
       "\n",
       "    .dataframe thead th {\n",
       "        text-align: right;\n",
       "    }\n",
       "</style>\n",
       "<table border=\"1\" class=\"dataframe\">\n",
       "  <thead>\n",
       "    <tr style=\"text-align: right;\">\n",
       "      <th></th>\n",
       "      <th>HCPCS Code</th>\n",
       "      <th>Charge</th>\n",
       "      <th>Code</th>\n",
       "      <th>Info</th>\n",
       "      <th>Hospital Outpatient Price</th>\n",
       "      <th>Discrepancy</th>\n",
       "    </tr>\n",
       "  </thead>\n",
       "  <tbody>\n",
       "    <tr>\n",
       "      <th>0</th>\n",
       "      <td>10061</td>\n",
       "      <td>$500.00</td>\n",
       "      <td>10061</td>\n",
       "      <td>Incision and drainage of abscess (eg, carbuncl...</td>\n",
       "      <td>$111.00</td>\n",
       "      <td>+350.45%</td>\n",
       "    </tr>\n",
       "    <tr>\n",
       "      <th>1</th>\n",
       "      <td>10120</td>\n",
       "      <td>$1,000.00</td>\n",
       "      <td>10120</td>\n",
       "      <td>Incision and removal of foreign body, subcutan...</td>\n",
       "      <td>$95.00</td>\n",
       "      <td>+952.63%</td>\n",
       "    </tr>\n",
       "    <tr>\n",
       "      <th>2</th>\n",
       "      <td>11102</td>\n",
       "      <td>$2,000.00</td>\n",
       "      <td>11102</td>\n",
       "      <td>Tangential biopsy of skin (eg, shave, scoop, s...</td>\n",
       "      <td>$45.00</td>\n",
       "      <td>+4344.44%</td>\n",
       "    </tr>\n",
       "  </tbody>\n",
       "</table>\n",
       "</div>"
      ],
      "text/plain": [
       "  HCPCS Code     Charge   Code  \\\n",
       "0      10061    $500.00  10061   \n",
       "1      10120  $1,000.00  10120   \n",
       "2      11102  $2,000.00  11102   \n",
       "\n",
       "                                                Info  \\\n",
       "0  Incision and drainage of abscess (eg, carbuncl...   \n",
       "1  Incision and removal of foreign body, subcutan...   \n",
       "2  Tangential biopsy of skin (eg, shave, scoop, s...   \n",
       "\n",
       "  Hospital Outpatient Price Discrepancy  \n",
       "0                   $111.00    +350.45%  \n",
       "1                    $95.00    +952.63%  \n",
       "2                    $45.00   +4344.44%  "
      ]
     },
     "execution_count": 7,
     "metadata": {},
     "output_type": "execute_result"
    }
   ],
   "source": [
    "merged_df"
   ]
  },
  {
   "cell_type": "code",
   "execution_count": null,
   "id": "b84d68e6-40dc-43df-8317-844e96edc739",
   "metadata": {},
   "outputs": [],
   "source": []
  }
 ],
 "metadata": {
  "kernelspec": {
   "display_name": "Python 3 (ipykernel)",
   "language": "python",
   "name": "python3"
  },
  "language_info": {
   "codemirror_mode": {
    "name": "ipython",
    "version": 3
   },
   "file_extension": ".py",
   "mimetype": "text/x-python",
   "name": "python",
   "nbconvert_exporter": "python",
   "pygments_lexer": "ipython3",
   "version": "3.11.5"
  }
 },
 "nbformat": 4,
 "nbformat_minor": 5
}
